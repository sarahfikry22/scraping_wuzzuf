{
 "cells": [
  {
   "cell_type": "code",
   "execution_count": 1,
   "id": "db04533a",
   "metadata": {},
   "outputs": [],
   "source": [
    "import pandas as pd\n",
    "import requests\n",
    "from bs4 import BeautifulSoup"
   ]
  },
  {
   "cell_type": "code",
   "execution_count": 2,
   "id": "0aabf21b",
   "metadata": {},
   "outputs": [
    {
     "data": {
      "text/plain": [
       "<Response [200]>"
      ]
     },
     "execution_count": 2,
     "metadata": {},
     "output_type": "execute_result"
    }
   ],
   "source": [
    "req=requests.get(\"https://wuzzuf.net/search/jobs/?q=data+analyst&a=navbl\")\n",
    "req"
   ]
  },
  {
   "cell_type": "code",
   "execution_count": 3,
   "id": "e3021921",
   "metadata": {},
   "outputs": [
    {
     "data": {
      "text/plain": [
       "b'<!DOCTYPE html>\\n<html lang=\"en\">\\n<head>\\n    <meta charset=\"utf-8\">\\n    <meta http-equiv=\"X-UA-Compatible\" content=\"IE=edge\">\\n    <meta name=\"viewport\" content=\"width=device-width, initial-scale=1.0, shrink-to-fit=no\">\\n    <meta http-equiv=\"expires\" content=\"Thu Dec 08 2022 18:30:44 GMT+0200\" />\\n\\n    <meta http-equiv=\"Pragma\" content=\"no-cache\">\\n    <meta http-equiv=\"cache-control\" content=\"no-cache, no-store, must-revalidate\">\\n\\n    <title data-react-helmet=\"true\">Job Search | WUZZUF</title>\\n\\n<meta data-react-helmet=\"true\" charset=\"utf-8\"/><meta data-react-helmet=\"true\" name=\"description\" content=\"Searching for jobs in Egypt? Wuzzuf helps you in your online job search to find Jobs in Egypt and Middle East. Choose the right job using our online recruitment services.\"/><meta data-react-helmet=\"true\" name=\"keywords\" content=\"jobs in Egypt, job in Egypt, careers egypt, jobs in Cairo, jobs in alexandria, employment in egypt, Egypt jobs, jobs vacancies, job vacancies in egypt, job search egypt, job vacancies egypt, job recruitment in egypt, job opportunities in egypt, jobs cairo, job vacancy egypt , \\xd9\\x88\\xd8\\xb8\\xd8\\xa7\\xd8\\xa6\\xd9\\x81 \\xd9\\x85\\xd8\\xb5\\xd8\\xb1\"/><meta data-react-helmet=\"true\" property=\"og:title\" content=\"Jobs in Egypt | WUZZUF\"/><meta data-react-helmet=\"true\" property=\"og:type\" content=\"website\"/><meta data-react-helmet=\"true\" property=\"og:url\" content=\"https://wuzzuf.net/search/jobs/\"/><meta data-react-helmet=\"true\" property=\"og:site_name\" content=\"WUZZUF\"/><meta data-react-helmet=\"true\" property=\"fb:app_id\" content=\"373086796047717\"/><meta data-react-helmet=\"true\" property=\"og:image\" content=\"https://static.wuzzuf-data.net/search-page-og-image-bc0a066d44969c0f879dc5df1a6453f3.png\"/><meta data-react-helmet=\"true\" property=\"og:description\" content=\"Searching for jobs in Egypt? Wuzzuf helps you in your online job search to find Jobs in Egypt and Middle East. Choose the right job using our online recruitment services.\"/><meta data-react-helmet=\"true\" property=\"og:locality\" content=\"Maadi\"/><meta data-'"
      ]
     },
     "execution_count": 3,
     "metadata": {},
     "output_type": "execute_result"
    }
   ],
   "source": [
    "req.content[ :2000]"
   ]
  },
  {
   "cell_type": "code",
   "execution_count": 4,
   "id": "6e146078",
   "metadata": {},
   "outputs": [],
   "source": [
    "soup=BeautifulSoup(req.content,'lxml')"
   ]
  },
  {
   "cell_type": "code",
   "execution_count": 5,
   "id": "6b195170",
   "metadata": {},
   "outputs": [],
   "source": [
    "job_title = soup.find_all(\"h2\",{\"class\":\"css-m604qf\"})"
   ]
  },
  {
   "cell_type": "code",
   "execution_count": 6,
   "id": "53045f0f",
   "metadata": {},
   "outputs": [],
   "source": [
    "company_name = soup.find_all(\"a\", {\"class\": \"css-17s97q8\"})"
   ]
  },
  {
   "cell_type": "code",
   "execution_count": 7,
   "id": "4e3e3d55",
   "metadata": {},
   "outputs": [],
   "source": [
    "location = soup.find_all(\"span\", {\"class\": \"css-5wys0k\"})"
   ]
  },
  {
   "cell_type": "code",
   "execution_count": 12,
   "id": "d6217c7b",
   "metadata": {},
   "outputs": [],
   "source": [
    "job_skill=soup.find_all( 'div',{\"class\":\"css-y4udm8\"})"
   ]
  },
  {
   "cell_type": "code",
   "execution_count": 13,
   "id": "6dd15314",
   "metadata": {},
   "outputs": [],
   "source": [
    "job_titles=[]\n",
    "company_names=[]\n",
    "locations=[]\n",
    "job_skills=[]"
   ]
  },
  {
   "cell_type": "code",
   "execution_count": 15,
   "id": "4f428cbc",
   "metadata": {},
   "outputs": [],
   "source": [
    "for i in range (len(job_title)):\n",
    "    job_titles.append(job_title[i].text)\n",
    "    company_names.append(company_name[i].text)\n",
    "    locations.append(location[i].text)\n",
    "    job_skills.append(job_skill[i].text)"
   ]
  },
  {
   "cell_type": "code",
   "execution_count": 27,
   "id": "a9f4f972",
   "metadata": {},
   "outputs": [
    {
     "data": {
      "text/plain": [
       "'Full TimeExperienced · 2 - 5 Yrs of Exp · Business Development · Analyst/Research · Analysis · analytical · Analyst · Business Intelligence · business · Data · Data Analysis · Information Technology (IT)'"
      ]
     },
     "execution_count": 27,
     "metadata": {},
     "output_type": "execute_result"
    }
   ],
   "source": [
    "job_skills[0]"
   ]
  },
  {
   "cell_type": "code",
   "execution_count": 16,
   "id": "5745e45e",
   "metadata": {},
   "outputs": [],
   "source": [
    "skills=[i.split('·', 2)[2:] for i in job_skills]"
   ]
  },
  {
   "cell_type": "code",
   "execution_count": 17,
   "id": "fa8fe3ea",
   "metadata": {},
   "outputs": [
    {
     "data": {
      "text/plain": [
       "[' Business Development · Analyst/Research · Analysis · analytical · Analyst · Business Intelligence · business · Data · Data Analysis · Information Technology (IT)']"
      ]
     },
     "execution_count": 17,
     "metadata": {},
     "output_type": "execute_result"
    }
   ],
   "source": [
    "skills[0]"
   ]
  },
  {
   "cell_type": "code",
   "execution_count": 18,
   "id": "76294ea5",
   "metadata": {},
   "outputs": [],
   "source": [
    "time=[i.split('·', 2)[1] for i in job_skills]"
   ]
  },
  {
   "cell_type": "code",
   "execution_count": 19,
   "id": "946155b1",
   "metadata": {},
   "outputs": [
    {
     "data": {
      "text/plain": [
       "' 2 - 5 Yrs of Exp '"
      ]
     },
     "execution_count": 19,
     "metadata": {},
     "output_type": "execute_result"
    }
   ],
   "source": [
    "time[0]"
   ]
  },
  {
   "cell_type": "code",
   "execution_count": 20,
   "id": "60010854",
   "metadata": {},
   "outputs": [],
   "source": [
    "job_type=[i.split('·', 2)[0] for i in job_skills]"
   ]
  },
  {
   "cell_type": "code",
   "execution_count": 21,
   "id": "5f664ca4",
   "metadata": {},
   "outputs": [
    {
     "data": {
      "text/plain": [
       "'Full TimeExperienced '"
      ]
     },
     "execution_count": 21,
     "metadata": {},
     "output_type": "execute_result"
    }
   ],
   "source": [
    "job_type[0]"
   ]
  },
  {
   "cell_type": "code",
   "execution_count": 22,
   "id": "9d666c9b",
   "metadata": {},
   "outputs": [],
   "source": [
    "data = {'job_title':job_titles ,\n",
    "        'company_name': company_names,\n",
    "        'location':locations,\n",
    "        'job_type':job_type ,\n",
    "        'job_skills':skills,\n",
    "        'time':time}"
   ]
  },
  {
   "cell_type": "code",
   "execution_count": 23,
   "id": "6bf67199",
   "metadata": {},
   "outputs": [],
   "source": [
    "df = pd.DataFrame(data)"
   ]
  },
  {
   "cell_type": "code",
   "execution_count": 24,
   "id": "1e695518",
   "metadata": {},
   "outputs": [
    {
     "data": {
      "text/html": [
       "<div>\n",
       "<style scoped>\n",
       "    .dataframe tbody tr th:only-of-type {\n",
       "        vertical-align: middle;\n",
       "    }\n",
       "\n",
       "    .dataframe tbody tr th {\n",
       "        vertical-align: top;\n",
       "    }\n",
       "\n",
       "    .dataframe thead th {\n",
       "        text-align: right;\n",
       "    }\n",
       "</style>\n",
       "<table border=\"1\" class=\"dataframe\">\n",
       "  <thead>\n",
       "    <tr style=\"text-align: right;\">\n",
       "      <th></th>\n",
       "      <th>job_title</th>\n",
       "      <th>company_name</th>\n",
       "      <th>location</th>\n",
       "      <th>job_type</th>\n",
       "      <th>job_skills</th>\n",
       "      <th>time</th>\n",
       "    </tr>\n",
       "  </thead>\n",
       "  <tbody>\n",
       "    <tr>\n",
       "      <th>0</th>\n",
       "      <td>Senior Data Analyst</td>\n",
       "      <td>Fawry for Banking Technology and Electronic Pa...</td>\n",
       "      <td>Smart Village, Giza, Egypt</td>\n",
       "      <td>Full TimeExperienced</td>\n",
       "      <td>[ Business Development · Analyst/Research · An...</td>\n",
       "      <td>2 - 5 Yrs of Exp</td>\n",
       "    </tr>\n",
       "    <tr>\n",
       "      <th>1</th>\n",
       "      <td>Data Analyst</td>\n",
       "      <td>Confidential -</td>\n",
       "      <td>Heliopolis, Cairo, Egypt</td>\n",
       "      <td>Full TimeExperienced</td>\n",
       "      <td>[ Business Development · Analyst/Research · an...</td>\n",
       "      <td>2 - 6 Yrs of Exp</td>\n",
       "    </tr>\n",
       "    <tr>\n",
       "      <th>2</th>\n",
       "      <td>Data Analyst</td>\n",
       "      <td>Othaim -</td>\n",
       "      <td>Katameya, Cairo, Egypt</td>\n",
       "      <td>Full TimeExperienced</td>\n",
       "      <td>[ IT/Software Development · Analyst/Research ·...</td>\n",
       "      <td>3 - 15 Yrs of Exp</td>\n",
       "    </tr>\n",
       "    <tr>\n",
       "      <th>3</th>\n",
       "      <td>Data Analyst</td>\n",
       "      <td>Al Ahly capital holding - Al Ahly Tamkeen -</td>\n",
       "      <td>Zamalek, Cairo, Egypt</td>\n",
       "      <td>Full TimeExperienced</td>\n",
       "      <td>[ IT/Software Development · Analyst/Research ·...</td>\n",
       "      <td>1 - 3 Yrs of Exp</td>\n",
       "    </tr>\n",
       "    <tr>\n",
       "      <th>4</th>\n",
       "      <td>Data Analyst</td>\n",
       "      <td>Hands of Hope Physical Therapy &amp; Wellness -</td>\n",
       "      <td>Maadi, Cairo, Egypt</td>\n",
       "      <td>Full TimeExperienced</td>\n",
       "      <td>[ R&amp;D/Science · IT/Software Development · Anal...</td>\n",
       "      <td>3 - 5 Yrs of Exp</td>\n",
       "    </tr>\n",
       "    <tr>\n",
       "      <th>5</th>\n",
       "      <td>ERPNext Specialist/Data Analyst</td>\n",
       "      <td>Confidential -</td>\n",
       "      <td>Alexandria, Egypt</td>\n",
       "      <td>Full TimeExperienced</td>\n",
       "      <td>[ IT/Software Development · Business Intellige...</td>\n",
       "      <td>5+ Yrs of Exp</td>\n",
       "    </tr>\n",
       "    <tr>\n",
       "      <th>6</th>\n",
       "      <td>Data Analyst</td>\n",
       "      <td>Natcom -</td>\n",
       "      <td>Cairo, Egypt</td>\n",
       "      <td>Full TimeExperienced</td>\n",
       "      <td>[ Sales/Retail · Sales · Retail · Retail Sales...</td>\n",
       "      <td>2 - 6 Yrs of Exp</td>\n",
       "    </tr>\n",
       "    <tr>\n",
       "      <th>7</th>\n",
       "      <td>Data Analyst</td>\n",
       "      <td>Nugttah -</td>\n",
       "      <td>Cairo, Egypt</td>\n",
       "      <td>Full TimeEntry Level</td>\n",
       "      <td>[ IT/Software Development · Engineering - Tele...</td>\n",
       "      <td>1 - 4 Yrs of Exp</td>\n",
       "    </tr>\n",
       "    <tr>\n",
       "      <th>8</th>\n",
       "      <td>Senior Business Analyst</td>\n",
       "      <td>Guardian towing -</td>\n",
       "      <td>Cairo, Egypt</td>\n",
       "      <td>Full TimeManager</td>\n",
       "      <td>[ Business Development · Project/Program Manag...</td>\n",
       "      <td>3+ Yrs of Exp</td>\n",
       "    </tr>\n",
       "    <tr>\n",
       "      <th>9</th>\n",
       "      <td>Software Business Analyst</td>\n",
       "      <td>WSC -</td>\n",
       "      <td>Dokki, Giza, Egypt</td>\n",
       "      <td>Full TimeExperienced</td>\n",
       "      <td>[ IT/Software Development · Analyst/Research ·...</td>\n",
       "      <td>3 - 6 Yrs of Exp</td>\n",
       "    </tr>\n",
       "    <tr>\n",
       "      <th>10</th>\n",
       "      <td>Market Research Analyst</td>\n",
       "      <td>Gap Polymers  -</td>\n",
       "      <td>Maadi, Cairo, Egypt</td>\n",
       "      <td>Full TimeExperienced</td>\n",
       "      <td>[ Marketing/PR/Advertising · Analyst/Research ...</td>\n",
       "      <td>1 - 3 Yrs of Exp</td>\n",
       "    </tr>\n",
       "    <tr>\n",
       "      <th>11</th>\n",
       "      <td>Financial Analyst - Innoventures</td>\n",
       "      <td>Cultiv -</td>\n",
       "      <td>Heliopolis, Cairo, Egypt</td>\n",
       "      <td>Full TimeExperienced</td>\n",
       "      <td>[ Accounting/Finance · Analyst/Research · Fina...</td>\n",
       "      <td>2 - 5 Yrs of Exp</td>\n",
       "    </tr>\n",
       "    <tr>\n",
       "      <th>12</th>\n",
       "      <td>Business analyst</td>\n",
       "      <td>Dawi Clinics -</td>\n",
       "      <td>Maadi, Cairo, Egypt</td>\n",
       "      <td>Full TimeExperienced</td>\n",
       "      <td>[ IT/Software Development · Analyst/Research ·...</td>\n",
       "      <td>2 - 3 Yrs of Exp</td>\n",
       "    </tr>\n",
       "    <tr>\n",
       "      <th>13</th>\n",
       "      <td>Senior Sales Analyst (Power BI)</td>\n",
       "      <td>Alarabia Group -</td>\n",
       "      <td>10th of Ramadan City, Cairo, Egypt</td>\n",
       "      <td>Full TimeExperienced</td>\n",
       "      <td>[ males_only · IT/Software Development · Analy...</td>\n",
       "      <td>2 - 5 Yrs of Exp</td>\n",
       "    </tr>\n",
       "    <tr>\n",
       "      <th>14</th>\n",
       "      <td>Data Analyst (On-Site)</td>\n",
       "      <td>Union Coop -</td>\n",
       "      <td>Dokki, Giza, Egypt</td>\n",
       "      <td>Full TimeExperienced</td>\n",
       "      <td>[ IT/Software Development · Analyst/Research ·...</td>\n",
       "      <td>6+ Yrs of Exp</td>\n",
       "    </tr>\n",
       "    <tr>\n",
       "      <th>15</th>\n",
       "      <td>Senior Data Analyst</td>\n",
       "      <td>Fawry for Banking Technology and Electronic Pa...</td>\n",
       "      <td>Smart Village, Giza, Egypt</td>\n",
       "      <td>Full TimeExperienced</td>\n",
       "      <td>[ Business Development · Analyst/Research · An...</td>\n",
       "      <td>2 - 5 Yrs of Exp</td>\n",
       "    </tr>\n",
       "    <tr>\n",
       "      <th>16</th>\n",
       "      <td>Data Analyst</td>\n",
       "      <td>Confidential -</td>\n",
       "      <td>Heliopolis, Cairo, Egypt</td>\n",
       "      <td>Full TimeExperienced</td>\n",
       "      <td>[ Business Development · Analyst/Research · an...</td>\n",
       "      <td>2 - 6 Yrs of Exp</td>\n",
       "    </tr>\n",
       "    <tr>\n",
       "      <th>17</th>\n",
       "      <td>Data Analyst</td>\n",
       "      <td>Othaim -</td>\n",
       "      <td>Katameya, Cairo, Egypt</td>\n",
       "      <td>Full TimeExperienced</td>\n",
       "      <td>[ IT/Software Development · Analyst/Research ·...</td>\n",
       "      <td>3 - 15 Yrs of Exp</td>\n",
       "    </tr>\n",
       "    <tr>\n",
       "      <th>18</th>\n",
       "      <td>Data Analyst</td>\n",
       "      <td>Al Ahly capital holding - Al Ahly Tamkeen -</td>\n",
       "      <td>Zamalek, Cairo, Egypt</td>\n",
       "      <td>Full TimeExperienced</td>\n",
       "      <td>[ IT/Software Development · Analyst/Research ·...</td>\n",
       "      <td>1 - 3 Yrs of Exp</td>\n",
       "    </tr>\n",
       "    <tr>\n",
       "      <th>19</th>\n",
       "      <td>Data Analyst</td>\n",
       "      <td>Hands of Hope Physical Therapy &amp; Wellness -</td>\n",
       "      <td>Maadi, Cairo, Egypt</td>\n",
       "      <td>Full TimeExperienced</td>\n",
       "      <td>[ R&amp;D/Science · IT/Software Development · Anal...</td>\n",
       "      <td>3 - 5 Yrs of Exp</td>\n",
       "    </tr>\n",
       "    <tr>\n",
       "      <th>20</th>\n",
       "      <td>ERPNext Specialist/Data Analyst</td>\n",
       "      <td>Confidential -</td>\n",
       "      <td>Alexandria, Egypt</td>\n",
       "      <td>Full TimeExperienced</td>\n",
       "      <td>[ IT/Software Development · Business Intellige...</td>\n",
       "      <td>5+ Yrs of Exp</td>\n",
       "    </tr>\n",
       "    <tr>\n",
       "      <th>21</th>\n",
       "      <td>Data Analyst</td>\n",
       "      <td>Natcom -</td>\n",
       "      <td>Cairo, Egypt</td>\n",
       "      <td>Full TimeExperienced</td>\n",
       "      <td>[ Sales/Retail · Sales · Retail · Retail Sales...</td>\n",
       "      <td>2 - 6 Yrs of Exp</td>\n",
       "    </tr>\n",
       "    <tr>\n",
       "      <th>22</th>\n",
       "      <td>Data Analyst</td>\n",
       "      <td>Nugttah -</td>\n",
       "      <td>Cairo, Egypt</td>\n",
       "      <td>Full TimeEntry Level</td>\n",
       "      <td>[ IT/Software Development · Engineering - Tele...</td>\n",
       "      <td>1 - 4 Yrs of Exp</td>\n",
       "    </tr>\n",
       "    <tr>\n",
       "      <th>23</th>\n",
       "      <td>Senior Business Analyst</td>\n",
       "      <td>Guardian towing -</td>\n",
       "      <td>Cairo, Egypt</td>\n",
       "      <td>Full TimeManager</td>\n",
       "      <td>[ Business Development · Project/Program Manag...</td>\n",
       "      <td>3+ Yrs of Exp</td>\n",
       "    </tr>\n",
       "    <tr>\n",
       "      <th>24</th>\n",
       "      <td>Software Business Analyst</td>\n",
       "      <td>WSC -</td>\n",
       "      <td>Dokki, Giza, Egypt</td>\n",
       "      <td>Full TimeExperienced</td>\n",
       "      <td>[ IT/Software Development · Analyst/Research ·...</td>\n",
       "      <td>3 - 6 Yrs of Exp</td>\n",
       "    </tr>\n",
       "    <tr>\n",
       "      <th>25</th>\n",
       "      <td>Market Research Analyst</td>\n",
       "      <td>Gap Polymers  -</td>\n",
       "      <td>Maadi, Cairo, Egypt</td>\n",
       "      <td>Full TimeExperienced</td>\n",
       "      <td>[ Marketing/PR/Advertising · Analyst/Research ...</td>\n",
       "      <td>1 - 3 Yrs of Exp</td>\n",
       "    </tr>\n",
       "    <tr>\n",
       "      <th>26</th>\n",
       "      <td>Financial Analyst - Innoventures</td>\n",
       "      <td>Cultiv -</td>\n",
       "      <td>Heliopolis, Cairo, Egypt</td>\n",
       "      <td>Full TimeExperienced</td>\n",
       "      <td>[ Accounting/Finance · Analyst/Research · Fina...</td>\n",
       "      <td>2 - 5 Yrs of Exp</td>\n",
       "    </tr>\n",
       "    <tr>\n",
       "      <th>27</th>\n",
       "      <td>Business analyst</td>\n",
       "      <td>Dawi Clinics -</td>\n",
       "      <td>Maadi, Cairo, Egypt</td>\n",
       "      <td>Full TimeExperienced</td>\n",
       "      <td>[ IT/Software Development · Analyst/Research ·...</td>\n",
       "      <td>2 - 3 Yrs of Exp</td>\n",
       "    </tr>\n",
       "    <tr>\n",
       "      <th>28</th>\n",
       "      <td>Senior Sales Analyst (Power BI)</td>\n",
       "      <td>Alarabia Group -</td>\n",
       "      <td>10th of Ramadan City, Cairo, Egypt</td>\n",
       "      <td>Full TimeExperienced</td>\n",
       "      <td>[ males_only · IT/Software Development · Analy...</td>\n",
       "      <td>2 - 5 Yrs of Exp</td>\n",
       "    </tr>\n",
       "    <tr>\n",
       "      <th>29</th>\n",
       "      <td>Data Analyst (On-Site)</td>\n",
       "      <td>Union Coop -</td>\n",
       "      <td>Dokki, Giza, Egypt</td>\n",
       "      <td>Full TimeExperienced</td>\n",
       "      <td>[ IT/Software Development · Analyst/Research ·...</td>\n",
       "      <td>6+ Yrs of Exp</td>\n",
       "    </tr>\n",
       "  </tbody>\n",
       "</table>\n",
       "</div>"
      ],
      "text/plain": [
       "                           job_title  \\\n",
       "0                Senior Data Analyst   \n",
       "1                       Data Analyst   \n",
       "2                       Data Analyst   \n",
       "3                       Data Analyst   \n",
       "4                       Data Analyst   \n",
       "5    ERPNext Specialist/Data Analyst   \n",
       "6                       Data Analyst   \n",
       "7                       Data Analyst   \n",
       "8            Senior Business Analyst   \n",
       "9          Software Business Analyst   \n",
       "10           Market Research Analyst   \n",
       "11  Financial Analyst - Innoventures   \n",
       "12                  Business analyst   \n",
       "13   Senior Sales Analyst (Power BI)   \n",
       "14            Data Analyst (On-Site)   \n",
       "15               Senior Data Analyst   \n",
       "16                      Data Analyst   \n",
       "17                      Data Analyst   \n",
       "18                      Data Analyst   \n",
       "19                      Data Analyst   \n",
       "20   ERPNext Specialist/Data Analyst   \n",
       "21                      Data Analyst   \n",
       "22                      Data Analyst   \n",
       "23           Senior Business Analyst   \n",
       "24         Software Business Analyst   \n",
       "25           Market Research Analyst   \n",
       "26  Financial Analyst - Innoventures   \n",
       "27                  Business analyst   \n",
       "28   Senior Sales Analyst (Power BI)   \n",
       "29            Data Analyst (On-Site)   \n",
       "\n",
       "                                         company_name  \\\n",
       "0   Fawry for Banking Technology and Electronic Pa...   \n",
       "1                                      Confidential -   \n",
       "2                                            Othaim -   \n",
       "3         Al Ahly capital holding - Al Ahly Tamkeen -   \n",
       "4         Hands of Hope Physical Therapy & Wellness -   \n",
       "5                                      Confidential -   \n",
       "6                                            Natcom -   \n",
       "7                                           Nugttah -   \n",
       "8                                   Guardian towing -   \n",
       "9                                               WSC -   \n",
       "10                                    Gap Polymers  -   \n",
       "11                                           Cultiv -   \n",
       "12                                     Dawi Clinics -   \n",
       "13                                   Alarabia Group -   \n",
       "14                                       Union Coop -   \n",
       "15  Fawry for Banking Technology and Electronic Pa...   \n",
       "16                                     Confidential -   \n",
       "17                                           Othaim -   \n",
       "18        Al Ahly capital holding - Al Ahly Tamkeen -   \n",
       "19        Hands of Hope Physical Therapy & Wellness -   \n",
       "20                                     Confidential -   \n",
       "21                                           Natcom -   \n",
       "22                                          Nugttah -   \n",
       "23                                  Guardian towing -   \n",
       "24                                              WSC -   \n",
       "25                                    Gap Polymers  -   \n",
       "26                                           Cultiv -   \n",
       "27                                     Dawi Clinics -   \n",
       "28                                   Alarabia Group -   \n",
       "29                                       Union Coop -   \n",
       "\n",
       "                               location               job_type  \\\n",
       "0           Smart Village, Giza, Egypt   Full TimeExperienced    \n",
       "1             Heliopolis, Cairo, Egypt   Full TimeExperienced    \n",
       "2               Katameya, Cairo, Egypt   Full TimeExperienced    \n",
       "3                Zamalek, Cairo, Egypt   Full TimeExperienced    \n",
       "4                  Maadi, Cairo, Egypt   Full TimeExperienced    \n",
       "5                    Alexandria, Egypt   Full TimeExperienced    \n",
       "6                         Cairo, Egypt   Full TimeExperienced    \n",
       "7                         Cairo, Egypt   Full TimeEntry Level    \n",
       "8                         Cairo, Egypt       Full TimeManager    \n",
       "9                   Dokki, Giza, Egypt   Full TimeExperienced    \n",
       "10                 Maadi, Cairo, Egypt   Full TimeExperienced    \n",
       "11            Heliopolis, Cairo, Egypt   Full TimeExperienced    \n",
       "12                 Maadi, Cairo, Egypt   Full TimeExperienced    \n",
       "13  10th of Ramadan City, Cairo, Egypt   Full TimeExperienced    \n",
       "14                  Dokki, Giza, Egypt   Full TimeExperienced    \n",
       "15          Smart Village, Giza, Egypt   Full TimeExperienced    \n",
       "16            Heliopolis, Cairo, Egypt   Full TimeExperienced    \n",
       "17              Katameya, Cairo, Egypt   Full TimeExperienced    \n",
       "18               Zamalek, Cairo, Egypt   Full TimeExperienced    \n",
       "19                 Maadi, Cairo, Egypt   Full TimeExperienced    \n",
       "20                   Alexandria, Egypt   Full TimeExperienced    \n",
       "21                        Cairo, Egypt   Full TimeExperienced    \n",
       "22                        Cairo, Egypt   Full TimeEntry Level    \n",
       "23                        Cairo, Egypt       Full TimeManager    \n",
       "24                  Dokki, Giza, Egypt   Full TimeExperienced    \n",
       "25                 Maadi, Cairo, Egypt   Full TimeExperienced    \n",
       "26            Heliopolis, Cairo, Egypt   Full TimeExperienced    \n",
       "27                 Maadi, Cairo, Egypt   Full TimeExperienced    \n",
       "28  10th of Ramadan City, Cairo, Egypt   Full TimeExperienced    \n",
       "29                  Dokki, Giza, Egypt   Full TimeExperienced    \n",
       "\n",
       "                                           job_skills                 time  \n",
       "0   [ Business Development · Analyst/Research · An...    2 - 5 Yrs of Exp   \n",
       "1   [ Business Development · Analyst/Research · an...    2 - 6 Yrs of Exp   \n",
       "2   [ IT/Software Development · Analyst/Research ·...   3 - 15 Yrs of Exp   \n",
       "3   [ IT/Software Development · Analyst/Research ·...    1 - 3 Yrs of Exp   \n",
       "4   [ R&D/Science · IT/Software Development · Anal...    3 - 5 Yrs of Exp   \n",
       "5   [ IT/Software Development · Business Intellige...       5+ Yrs of Exp   \n",
       "6   [ Sales/Retail · Sales · Retail · Retail Sales...    2 - 6 Yrs of Exp   \n",
       "7   [ IT/Software Development · Engineering - Tele...    1 - 4 Yrs of Exp   \n",
       "8   [ Business Development · Project/Program Manag...       3+ Yrs of Exp   \n",
       "9   [ IT/Software Development · Analyst/Research ·...    3 - 6 Yrs of Exp   \n",
       "10  [ Marketing/PR/Advertising · Analyst/Research ...    1 - 3 Yrs of Exp   \n",
       "11  [ Accounting/Finance · Analyst/Research · Fina...    2 - 5 Yrs of Exp   \n",
       "12  [ IT/Software Development · Analyst/Research ·...    2 - 3 Yrs of Exp   \n",
       "13  [ males_only · IT/Software Development · Analy...    2 - 5 Yrs of Exp   \n",
       "14  [ IT/Software Development · Analyst/Research ·...       6+ Yrs of Exp   \n",
       "15  [ Business Development · Analyst/Research · An...    2 - 5 Yrs of Exp   \n",
       "16  [ Business Development · Analyst/Research · an...    2 - 6 Yrs of Exp   \n",
       "17  [ IT/Software Development · Analyst/Research ·...   3 - 15 Yrs of Exp   \n",
       "18  [ IT/Software Development · Analyst/Research ·...    1 - 3 Yrs of Exp   \n",
       "19  [ R&D/Science · IT/Software Development · Anal...    3 - 5 Yrs of Exp   \n",
       "20  [ IT/Software Development · Business Intellige...       5+ Yrs of Exp   \n",
       "21  [ Sales/Retail · Sales · Retail · Retail Sales...    2 - 6 Yrs of Exp   \n",
       "22  [ IT/Software Development · Engineering - Tele...    1 - 4 Yrs of Exp   \n",
       "23  [ Business Development · Project/Program Manag...       3+ Yrs of Exp   \n",
       "24  [ IT/Software Development · Analyst/Research ·...    3 - 6 Yrs of Exp   \n",
       "25  [ Marketing/PR/Advertising · Analyst/Research ...    1 - 3 Yrs of Exp   \n",
       "26  [ Accounting/Finance · Analyst/Research · Fina...    2 - 5 Yrs of Exp   \n",
       "27  [ IT/Software Development · Analyst/Research ·...    2 - 3 Yrs of Exp   \n",
       "28  [ males_only · IT/Software Development · Analy...    2 - 5 Yrs of Exp   \n",
       "29  [ IT/Software Development · Analyst/Research ·...       6+ Yrs of Exp   "
      ]
     },
     "execution_count": 24,
     "metadata": {},
     "output_type": "execute_result"
    }
   ],
   "source": [
    "df"
   ]
  },
  {
   "cell_type": "code",
   "execution_count": 25,
   "id": "0775dc70",
   "metadata": {},
   "outputs": [],
   "source": [
    "df.to_csv('wuzzuf.csv')"
   ]
  },
  {
   "cell_type": "code",
   "execution_count": null,
   "id": "a7969229",
   "metadata": {},
   "outputs": [],
   "source": []
  }
 ],
 "metadata": {
  "kernelspec": {
   "display_name": "Python 3 (ipykernel)",
   "language": "python",
   "name": "python3"
  },
  "language_info": {
   "codemirror_mode": {
    "name": "ipython",
    "version": 3
   },
   "file_extension": ".py",
   "mimetype": "text/x-python",
   "name": "python",
   "nbconvert_exporter": "python",
   "pygments_lexer": "ipython3",
   "version": "3.9.13"
  }
 },
 "nbformat": 4,
 "nbformat_minor": 5
}
